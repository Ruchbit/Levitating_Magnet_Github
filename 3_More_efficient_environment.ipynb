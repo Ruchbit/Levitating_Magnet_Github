{
 "cells": [
  {
   "cell_type": "code",
   "execution_count": 1,
   "metadata": {},
   "outputs": [
    {
     "data": {
      "text/html": [
       "<div id=\"glowscript\" class=\"glowscript\"></div>"
      ],
      "text/plain": [
       "<IPython.core.display.HTML object>"
      ]
     },
     "metadata": {},
     "output_type": "display_data"
    },
    {
     "data": {
      "application/javascript": "if (typeof Jupyter !== \"undefined\") { window.__context = { glowscript_container: $(\"#glowscript\").removeAttr(\"id\")};}else{ element.textContent = ' ';}",
      "text/plain": [
       "<IPython.core.display.Javascript object>"
      ]
     },
     "metadata": {},
     "output_type": "display_data"
    }
   ],
   "source": [
    "%matplotlib widget\n",
    "from zMag_Field import *\n",
    "import numpy as np\n",
    "import magpylib as magpy\n"
   ]
  },
  {
   "cell_type": "code",
   "execution_count": null,
   "metadata": {},
   "outputs": [],
   "source": []
  },
  {
   "cell_type": "code",
   "execution_count": null,
   "metadata": {},
   "outputs": [],
   "source": [
    "def rotate_vec(vec, angle_rad):\n",
    "    \"\"\"Rotate a 3D vector (x, y, z) around Z-axis by angle_rad.\"\"\"\n",
    "    x, y, z = vec\n",
    "    cos_a = np.cos(angle_rad)\n",
    "    sin_a = np.sin(angle_rad)\n",
    "    return np.array([\n",
    "        cos_a * x - sin_a * y,\n",
    "        sin_a * x + cos_a * y,\n",
    "        z\n",
    "    ])\n",
    "\n",
    "def compute_magnetic_field_antisym(coil_pillar, position):\n",
    "    \"\"\"\n",
    "    Compute magnetic field at 'position' using one base pillar and your specified symmetry.\n",
    "\n",
    "    Parameters:\n",
    "        coil_pillar (list): Coils in one base pillar (with +current).\n",
    "        position (tuple): (x, y, z) field evaluation point.\n",
    "\n",
    "    Returns:\n",
    "        np.array: Magnetic field vector [Bx, By, Bz] in Tesla.\n",
    "    \"\"\"\n",
    "    total_B = np.array([0.0, 0.0, 0.0])\n",
    "\n",
    "    # Your desired symmetry: 1 & 2 (+), 3 & 4 (−)\n",
    "    symmetry_transforms = [\n",
    "        (0, +1),            # (-x, -y)\n",
    "        (np.pi/2, +1),      # (-x, +y)\n",
    "        (np.pi, -1),        # (+x, +y)\n",
    "        (3*np.pi/2, -1)     # (+x, -y)\n",
    "    ]\n",
    "\n",
    "\n",
    "    for angle, sign in symmetry_transforms:\n",
    "        rotated_pos = rotate_vec(position, -angle)\n",
    "\n",
    "        B_local = np.array([0.0, 0.0, 0.0])\n",
    "        for coil in coil_pillar:\n",
    "            B_local += coil.getB(rotated_pos)\n",
    "\n",
    "        B_global = rotate_vec(B_local, angle)\n",
    "        total_B += sign * B_global\n",
    "        \n",
    "        print(total_B)\n",
    "    return total_B\n"
   ]
  },
  {
   "cell_type": "code",
   "execution_count": 3,
   "metadata": {},
   "outputs": [],
   "source": [
    "# === Generate ONE Base Pillar ===\n",
    "coil_pillar = []\n",
    "\n",
    "base_position = (0, 0, 0)  # bottom-left\n",
    "diameter_values = np.linspace(0.007, 0.019, 34)[::-1]\n",
    "\n",
    "for diameter in diameter_values:\n",
    "    coil = make_coil(\n",
    "        current = 5,  # positive current only\n",
    "        num_coils=30,\n",
    "        coil_spacing=0.00033,\n",
    "        position=base_position,\n",
    "        diameter=diameter\n",
    "    )\n",
    "    coil_pillar.extend(coil)  # <- use extend to flatten\n"
   ]
  },
  {
   "cell_type": "code",
   "execution_count": 4,
   "metadata": {},
   "outputs": [
    {
     "name": "stdout",
     "output_type": "stream",
     "text": [
      "Magnetic field at (0.0, 0.0, 0.03) is [0. 0. 0.] Tesla\n"
     ]
    }
   ],
   "source": [
    "# Compute magnetic field at some point\n",
    "field_point = (0.0, 0.0, 0.03)  # e.g., center 1 cm above\n",
    "\n",
    "B = compute_magnetic_field_antisym(coil_pillar, field_point)\n",
    "print(\"Magnetic field at\", field_point, \"is\", B, \"Tesla\")\n"
   ]
  },
  {
   "cell_type": "code",
   "execution_count": 5,
   "metadata": {},
   "outputs": [],
   "source": [
    "def compute_magnetic_gradient_xyz(coil_pillar, position, delta=0.001):\n",
    "    x, y, z = position\n",
    "\n",
    "    Bx_plus  = compute_magnetic_field_antisym(coil_pillar, (x + delta, y, z))[0]\n",
    "    Bx_minus = compute_magnetic_field_antisym(coil_pillar, (x - delta, y, z))[0]\n",
    "    \n",
    "    By_plus  = compute_magnetic_field_antisym(coil_pillar, (x, y + delta, z))[1]\n",
    "    By_minus = compute_magnetic_field_antisym(coil_pillar, (x, y - delta, z))[1]\n",
    "    \n",
    "    Bz_plus  = compute_magnetic_field_antisym(coil_pillar, (x, y, z + delta))[2]\n",
    "    Bz_minus = compute_magnetic_field_antisym(coil_pillar, (x, y, z - delta))[2]\n",
    "\n",
    "    # Now compute the gradients directly\n",
    "    dBx_dx = (Bx_plus - Bx_minus) / (2 * delta)\n",
    "    dBy_dy = (By_plus - By_minus) / (2 * delta)\n",
    "    dBz_dz = (Bz_plus - Bz_minus) / (2 * delta)\n",
    "    print(\"Magnetic gradient at\", position, \"is\", dBx_dx, dBy_dy, dBz_dz, \"Tesla/m\")\n",
    "\n",
    "    return dBx_dx, dBy_dy, dBz_dz\n"
   ]
  },
  {
   "cell_type": "code",
   "execution_count": 6,
   "metadata": {},
   "outputs": [
    {
     "name": "stdout",
     "output_type": "stream",
     "text": [
      "Magnetic gradient at (0.0, 0.0, 0.03) is 0.0 0.0 0.0 Tesla/m\n"
     ]
    }
   ],
   "source": [
    "dBx_dx, dBy_dy, dBz_dz = compute_magnetic_gradient_xyz(coil_pillar, field_point)\n",
    "magnetic_moment = 2.061670178918302 \n",
    "\n"
   ]
  },
  {
   "cell_type": "code",
   "execution_count": 7,
   "metadata": {},
   "outputs": [
    {
     "name": "stdout",
     "output_type": "stream",
     "text": [
      "Magnetic gradient at (0.0, 0.0, 0.03) is 0.0 0.0 0.0 Tesla/m\n"
     ]
    }
   ],
   "source": [
    "print(\"Magnetic gradient at\", field_point, \"is\", dBx_dx, dBy_dy, dBz_dz, \"Tesla/m\")"
   ]
  },
  {
   "cell_type": "code",
   "execution_count": 8,
   "metadata": {},
   "outputs": [
    {
     "name": "stdout",
     "output_type": "stream",
     "text": [
      "Magnetic moment is 2.061670178918302 A m^2\n"
     ]
    }
   ],
   "source": [
    "magnetic_moment = compute_magnetic_moment()\n",
    "print(\"Magnetic moment is\", magnetic_moment, \"A m^2\")\n",
    "total_magnetic_force = np.round(dBz_dz * magnetic_moment, 3)\n"
   ]
  },
  {
   "cell_type": "code",
   "execution_count": 9,
   "metadata": {},
   "outputs": [
    {
     "name": "stdout",
     "output_type": "stream",
     "text": [
      "Magnetic force at (0.0, 0.0, 0.03) is 0.0 N\n"
     ]
    }
   ],
   "source": [
    "print(\"Magnetic force at\", field_point, \"is\", total_magnetic_force, \"N\")"
   ]
  }
 ],
 "metadata": {
  "kernelspec": {
   "display_name": ".venv",
   "language": "python",
   "name": "python3"
  },
  "language_info": {
   "codemirror_mode": {
    "name": "ipython",
    "version": 3
   },
   "file_extension": ".py",
   "mimetype": "text/x-python",
   "name": "python",
   "nbconvert_exporter": "python",
   "pygments_lexer": "ipython3",
   "version": "3.11.0"
  }
 },
 "nbformat": 4,
 "nbformat_minor": 2
}
