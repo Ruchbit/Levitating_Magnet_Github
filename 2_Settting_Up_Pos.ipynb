{
 "cells": [
  {
   "cell_type": "code",
   "execution_count": 1,
   "metadata": {},
   "outputs": [
    {
     "data": {
      "text/html": [
       "<div id=\"glowscript\" class=\"glowscript\"></div>"
      ],
      "text/plain": [
       "<IPython.core.display.HTML object>"
      ]
     },
     "metadata": {},
     "output_type": "display_data"
    },
    {
     "data": {
      "application/javascript": "if (typeof Jupyter !== \"undefined\") { window.__context = { glowscript_container: $(\"#glowscript\").removeAttr(\"id\")};}else{ element.textContent = ' ';}",
      "text/plain": [
       "<IPython.core.display.Javascript object>"
      ]
     },
     "metadata": {},
     "output_type": "display_data"
    }
   ],
   "source": [
    "#%matplotlib notebook\n",
    "%matplotlib widget\n",
    "from zMag_Field import *\n",
    "import numpy as np\n",
    "import matplotlib.animation as animation"
   ]
  },
  {
   "cell_type": "code",
   "execution_count": null,
   "metadata": {},
   "outputs": [
    {
     "name": "stdout",
     "output_type": "stream",
     "text": [
      "Time to construct system: 1.2216 seconds\n",
      "Magnetic field at (0, 0, 0.03): [1.62839761e-02 4.22934138e-19 5.77041195e-21] T\n",
      "Time to compute magnetic field: 20.5936 seconds\n",
      "Magnetic moment of the magnet: 2.061670178918302 A m^2\n",
      "Time to compute magnetic moment: 0.0000 seconds\n",
      "Magnetic gradient on the weightless magnet: 0.0 N\n",
      "Time to compute magnetic gradient: 42.3568 seconds\n",
      "Total Magnetic force on the magnet due to coils: 2.6030822652989974e-17 N\n",
      "Time to compute total magnetic force: 0.0000 seconds\n"
     ]
    }
   ],
   "source": [
    "import time\n",
    "import numpy as np\n",
    "\n",
    "x_current = 5\n",
    "y_current = 5\n",
    "initial_position = (0, 0, 0.03)\n",
    "\n",
    "# Measure time for constructing the system\n",
    "start_time = time.time()\n",
    "coil_pillars = construct_system(x_current, y_current)\n",
    "end_time = time.time()\n",
    "print(f\"Time to construct system: {end_time - start_time:.4f} seconds\")\n",
    "\n",
    "# Measure time for computing the magnetic field\n",
    "start_time = time.time()\n",
    "B_field = compute_magnetic_field(coil_pillars, initial_position)\n",
    "end_time = time.time()\n",
    "print(f\"Magnetic field at {initial_position}: {B_field} T\")\n",
    "print(f\"Time to compute magnetic field: {end_time - start_time:.4f} seconds\")\n",
    "\n",
    "# Measure time for computing the magnetic moment\n",
    "start_time = time.time()\n",
    "magnetic_moment = compute_magnetic_moment()\n",
    "end_time = time.time()\n",
    "print(f\"Magnetic moment of the magnet: {magnetic_moment} A m^2\")\n",
    "print(f\"Time to compute magnetic moment: {end_time - start_time:.4f} seconds\")\n",
    "\n",
    "# Measure time for computing the magnetic gradient\n",
    "start_time = time.time()\n",
    "dBz_dz = compute_magnetic_gradient(coil_pillars, initial_position)\n",
    "end_time = time.time()\n",
    "print(f\"Magnetic gradient on the weightless magnet: {np.round(dBz_dz, 3)} N\")\n",
    "print(f\"Time to compute magnetic gradient: {end_time - start_time:.4f} seconds\")\n",
    "\n",
    "# Measure time for computing the total magnetic force\n",
    "start_time = time.time()\n",
    "total_magnetic_force = dBz_dz * magnetic_moment\n",
    "end_time = time.time()\n",
    "print(f\"Total Magnetic force on the magnet due to coils: {total_magnetic_force} N\")\n",
    "print(f\"Time to compute total magnetic force: {end_time - start_time:.4f} seconds\")"
   ]
  },
  {
   "cell_type": "code",
   "execution_count": 3,
   "metadata": {},
   "outputs": [
    {
     "name": "stdout",
     "output_type": "stream",
     "text": [
      "(0.548, 0.548, -1.094)\n"
     ]
    }
   ],
   "source": [
    "f = magnetic_field(5, 5, -5, 5, magnetic_moment)\n",
    "normal_floats = tuple(float(x) for x in f)\n",
    "print(normal_floats)\n",
    "\n",
    "mass = 1.0  # Mass of the object (in kg)\n",
    "dt = 0.01  # Small time step (in seconds)\n",
    "new_position = update_position(initial_position, f, mass, dt)"
   ]
  },
  {
   "cell_type": "code",
   "execution_count": 4,
   "metadata": {},
   "outputs": [
    {
     "ename": "TypeError",
     "evalue": "magnetic_field() missing 3 required positional arguments: 'y1_current', 'y2_current', and 'magnetic_moment'",
     "output_type": "error",
     "traceback": [
      "\u001b[31m---------------------------------------------------------------------------\u001b[39m",
      "\u001b[31mTypeError\u001b[39m                                 Traceback (most recent call last)",
      "\u001b[36mCell\u001b[39m\u001b[36m \u001b[39m\u001b[32mIn[4]\u001b[39m\u001b[32m, line 1\u001b[39m\n\u001b[32m----> \u001b[39m\u001b[32m1\u001b[39m f = \u001b[43mmagnetic_field\u001b[49m\u001b[43m(\u001b[49m\u001b[43mnew_position\u001b[49m\u001b[43m,\u001b[49m\u001b[43m \u001b[49m\u001b[43mmagnetic_moment\u001b[49m\u001b[43m)\u001b[49m\n\u001b[32m      2\u001b[39m \u001b[38;5;28mprint\u001b[39m(f)\n",
      "\u001b[31mTypeError\u001b[39m: magnetic_field() missing 3 required positional arguments: 'y1_current', 'y2_current', and 'magnetic_moment'"
     ]
    }
   ],
   "source": [
    "\n",
    "f = magnetic_field(new_position, magnetic_moment)\n",
    "print(f)"
   ]
  }
 ],
 "metadata": {
  "kernelspec": {
   "display_name": ".venv",
   "language": "python",
   "name": "python3"
  },
  "language_info": {
   "codemirror_mode": {
    "name": "ipython",
    "version": 3
   },
   "file_extension": ".py",
   "mimetype": "text/x-python",
   "name": "python",
   "nbconvert_exporter": "python",
   "pygments_lexer": "ipython3",
   "version": "3.11.0"
  }
 },
 "nbformat": 4,
 "nbformat_minor": 2
}
