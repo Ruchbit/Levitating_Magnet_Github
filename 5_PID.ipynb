{
 "cells": [
  {
   "cell_type": "code",
   "execution_count": 1,
   "metadata": {},
   "outputs": [
    {
     "data": {
      "text/html": [
       "<div id=\"glowscript\" class=\"glowscript\"></div>"
      ],
      "text/plain": [
       "<IPython.core.display.HTML object>"
      ]
     },
     "metadata": {},
     "output_type": "display_data"
    },
    {
     "data": {
      "application/javascript": "if (typeof Jupyter !== \"undefined\") { window.__context = { glowscript_container: $(\"#glowscript\").removeAttr(\"id\")};}else{ element.textContent = ' ';}",
      "text/plain": [
       "<IPython.core.display.Javascript object>"
      ]
     },
     "metadata": {},
     "output_type": "display_data"
    }
   ],
   "source": [
    "#%matplotlib notebook\n",
    "%matplotlib widget\n",
    "from zMag_Field import *\n",
    "import numpy as np\n",
    "import matplotlib.animation as animation\n",
    "from tqdm import tqdm"
   ]
  },
  {
   "cell_type": "code",
   "execution_count": 2,
   "metadata": {},
   "outputs": [],
   "source": [
    "\n",
    "\n",
    "def compute_magnetic_force(coil_pillars, position, magnetic_moment, delta=0.001):\n",
    "    \"\"\"\n",
    "    Computes the magnetic force on a dipole at a given position.\n",
    "\n",
    "    Parameters:\n",
    "        coil_pillars (list): Coil definitions.\n",
    "        position (tuple): (x, y, z) coordinates.\n",
    "        magnetic_moment (tuple): Dipole moment vector (mx, my, mz) in A·m².\n",
    "        delta (float): Small step for numerical differentiation.\n",
    "\n",
    "    Returns:\n",
    "        tuple: Force vector (Fx, Fy, Fz) in Newtons.\n",
    "    \"\"\"\n",
    "    x, y, z = position\n",
    "    mx, my, mz = magnetic_moment\n",
    "\n",
    "    def get_B(pos):\n",
    "        return compute_magnetic_field(coil_pillars, pos)\n",
    "\n",
    "    # Compute gradient tensor G[i][j] = ∂Bi/∂xj\n",
    "    G = [[0.0]*3 for _ in range(3)]\n",
    "    for j, (dx, dy, dz) in enumerate([(delta,0,0), (0,delta,0), (0,0,delta)]):\n",
    "        B_forward = get_B((x + dx, y + dy, z + dz))\n",
    "        B_backward = get_B((x - dx, y - dy, z - dz))\n",
    "        for i in range(3):\n",
    "            G[i][j] = (B_forward[i] - B_backward[i]) / (2 * delta)\n",
    "\n",
    "    # Compute force = G ⋅ m\n",
    "    m_vec = np.array([mx, my, mz])\n",
    "    G_matrix = np.array(G)\n",
    "    F = G_matrix @ m_vec\n",
    "\n",
    "    return tuple(F)\n",
    "\n"
   ]
  },
  {
   "cell_type": "code",
   "execution_count": 3,
   "metadata": {},
   "outputs": [],
   "source": [
    "def update_position_velocity(position, velocity, force, mass, dt= 0.005):\n",
    "    \"\"\"\n",
    "    Updates position and velocity using force and time step (basic Newtonian mechanics).\n",
    "    \n",
    "    Parameters:\n",
    "        position (tuple): Current (x, y, z) position.\n",
    "        velocity (tuple): Current (vx, vy, vz) velocity.\n",
    "        force (tuple): Force vector (Fx, Fy, Fz).\n",
    "        mass (float): Mass of the object.\n",
    "        dt (float): Time step.\n",
    "    \n",
    "    Returns:\n",
    "        tuple: Updated (position, velocity)\n",
    "    \"\"\"\n",
    "    x, y, z = position\n",
    "    vx, vy, vz = velocity\n",
    "    Fx, Fy, Fz = force\n",
    "\n",
    "    # Acceleration\n",
    "    ax = Fx / mass\n",
    "    ay = Fy / mass\n",
    "    az = Fz / mass\n",
    "\n",
    "    # Update velocity\n",
    "    vx_new = vx + ax * dt\n",
    "    vy_new = vy + ay * dt\n",
    "    vz_new = vz + az * dt\n",
    "\n",
    "    # Update position\n",
    "    x_new = x + vx * dt + 0.5 * ax * dt**2\n",
    "    y_new = y + vy * dt + 0.5 * ay * dt**2\n",
    "    z_new = z + vz * dt + 0.5 * az * dt**2\n",
    "\n",
    "    return (x_new, y_new, z_new), (vx_new, vy_new, vz_new)\n"
   ]
  },
  {
   "cell_type": "code",
   "execution_count": 4,
   "metadata": {},
   "outputs": [],
   "source": [
    "class PID:\n",
    "    def __init__(self, kp, ki, kd, setpoint=0.0, output_limits=(-np.inf, np.inf), dt=0.005):\n",
    "        self.kp = kp\n",
    "        self.ki = ki\n",
    "        self.kd = kd\n",
    "        self.setpoint = setpoint\n",
    "        self.output_limits = output_limits\n",
    "        self.dt = dt\n",
    "        self._integral = 0\n",
    "        self._prev_error = 0\n",
    "\n",
    "    def compute(self, measurement):\n",
    "        error = self.setpoint - measurement\n",
    "        self._integral += error * self.dt\n",
    "        derivative = (error - self._prev_error) / self.dt\n",
    "        output = self.kp * error + self.ki * self._integral + self.kd * derivative\n",
    "        self._prev_error = error\n",
    "        return max(self.output_limits[0], min(self.output_limits[1], output))\n"
   ]
  },
  {
   "cell_type": "code",
   "execution_count": null,
   "metadata": {},
   "outputs": [
    {
     "ename": "",
     "evalue": "",
     "output_type": "error",
     "traceback": [
      "\u001b[1;31mThe Kernel crashed while executing code in the current cell or a previous cell. \n",
      "\u001b[1;31mPlease review the code in the cell(s) to identify a possible cause of the failure. \n",
      "\u001b[1;31mClick <a href='https://aka.ms/vscodeJupyterKernelCrash'>here</a> for more info. \n",
      "\u001b[1;31mView Jupyter <a href='command:jupyter.viewOutput'>log</a> for further details."
     ]
    }
   ],
   "source": [
    "def scale_position_to_hall(x, physical_range=0.025, center=530, hall_range=1023):\n",
    "    \"\"\"\n",
    "    Maps a physical position in meters to a simulated Hall sensor reading.\n",
    "\n",
    "    Parameters:\n",
    "        x (float): Physical position (in meters)\n",
    "        physical_range (float): Max range from center position (e.g., ±0.025 m)\n",
    "        center (int): Hall sensor value for zero position (default 530)\n",
    "        hall_range (int): Max value of Hall sensor (default 1023)\n",
    "\n",
    "    Returns:\n",
    "        float: Simulated Hall sensor reading\n",
    "    \"\"\"\n",
    "    scale = (hall_range / 2) / physical_range  # Scale m → hall units\n",
    "    return center + x * scale\n",
    "\n",
    "def scale_hall_to_position(hall_value, physical_range=0.025, center=530, hall_range=1023):\n",
    "    \"\"\"\n",
    "    Maps a Hall sensor reading back to physical position in meters.\n",
    "\n",
    "    Parameters:\n",
    "        hall_value (float): Simulated or real Hall sensor reading (0–1023)\n",
    "        physical_range (float): Max range from center position (e.g., ±0.025 m)\n",
    "        center (int): Hall sensor value for zero position (default 530)\n",
    "        hall_range (int): Max value of Hall sensor (default 1023)\n",
    "\n",
    "    Returns:\n",
    "        float: Physical position in meters\n",
    "    \"\"\"\n",
    "    scale = (hall_range / 2) / physical_range  # Same scale as forward mapping\n",
    "    return (hall_value - center) / scale\n"
   ]
  },
  {
   "cell_type": "code",
   "execution_count": null,
   "metadata": {},
   "outputs": [
    {
     "name": "stderr",
     "output_type": "stream",
     "text": [
      "  0%|          | 1/1000 [00:32<9:08:34, 32.95s/it]"
     ]
    },
    {
     "name": "stdout",
     "output_type": "stream",
     "text": [
      "Currents: (0.00, 5.00), Position: (0.000, -0.020), Force: [0.26778122 0.04822923 0.        ]\n"
     ]
    },
    {
     "name": "stderr",
     "output_type": "stream",
     "text": [
      "  0%|          | 2/1000 [01:05<9:02:21, 32.61s/it]"
     ]
    },
    {
     "name": "stdout",
     "output_type": "stream",
     "text": [
      "Currents: (-0.39, 5.00), Position: (0.000, -0.020), Force: [0.28891212 0.04560161 0.        ]\n"
     ]
    },
    {
     "name": "stderr",
     "output_type": "stream",
     "text": [
      "  0%|          | 3/1000 [01:37<8:59:09, 32.45s/it]"
     ]
    },
    {
     "name": "stdout",
     "output_type": "stream",
     "text": [
      "Currents: (-1.69, 5.00), Position: (0.001, -0.020), Force: [0.35871345 0.03869304 0.        ]\n"
     ]
    },
    {
     "name": "stderr",
     "output_type": "stream",
     "text": [
      "  0%|          | 4/1000 [02:09<8:58:15, 32.43s/it]"
     ]
    },
    {
     "name": "stdout",
     "output_type": "stream",
     "text": [
      "Currents: (-4.20, 5.00), Position: (0.001, -0.020), Force: [0.49310872 0.03249716 0.        ]\n"
     ]
    },
    {
     "name": "stderr",
     "output_type": "stream",
     "text": [
      "  0%|          | 5/1000 [02:44<9:07:47, 33.03s/it]"
     ]
    },
    {
     "name": "stdout",
     "output_type": "stream",
     "text": [
      "Currents: (-5.00, 5.00), Position: (0.002, -0.020), Force: [0.52820839 0.05187961 0.        ]\n"
     ]
    },
    {
     "name": "stderr",
     "output_type": "stream",
     "text": [
      "  1%|          | 6/1000 [03:16<9:02:04, 32.72s/it]"
     ]
    },
    {
     "name": "stdout",
     "output_type": "stream",
     "text": [
      "Currents: (-5.00, 5.00), Position: (0.004, -0.019), Force: [0.50472692 0.08482974 0.        ]\n"
     ]
    },
    {
     "name": "stderr",
     "output_type": "stream",
     "text": [
      "  1%|          | 7/1000 [03:48<8:58:32, 32.54s/it]"
     ]
    },
    {
     "name": "stdout",
     "output_type": "stream",
     "text": [
      "Currents: (-5.00, 5.00), Position: (0.006, -0.019), Force: [0.45421018 0.12307865 0.        ]\n"
     ]
    },
    {
     "name": "stderr",
     "output_type": "stream",
     "text": [
      "  1%|          | 8/1000 [04:20<8:55:39, 32.40s/it]"
     ]
    },
    {
     "name": "stdout",
     "output_type": "stream",
     "text": [
      "Currents: (-5.00, 5.00), Position: (0.009, -0.019), Force: [0.36683905 0.1596704  0.        ]\n"
     ]
    },
    {
     "name": "stderr",
     "output_type": "stream",
     "text": [
      "  1%|          | 9/1000 [04:52<8:51:18, 32.17s/it]"
     ]
    },
    {
     "name": "stdout",
     "output_type": "stream",
     "text": [
      "Currents: (-5.00, 5.00), Position: (0.012, -0.018), Force: [0.24092922 0.18529731 0.        ]\n"
     ]
    },
    {
     "name": "stderr",
     "output_type": "stream",
     "text": [
      "  1%|          | 10/1000 [05:23<8:47:05, 31.94s/it]"
     ]
    },
    {
     "name": "stdout",
     "output_type": "stream",
     "text": [
      "Currents: (-5.00, 5.00), Position: (0.015, -0.018), Force: [0.09002222 0.19187001 0.        ]\n"
     ]
    },
    {
     "name": "stderr",
     "output_type": "stream",
     "text": [
      "  1%|          | 11/1000 [05:55<8:44:57, 31.85s/it]"
     ]
    },
    {
     "name": "stdout",
     "output_type": "stream",
     "text": [
      "Currents: (-5.00, 5.00), Position: (0.019, -0.017), Force: [-0.05778987  0.17757764  0.        ]\n"
     ]
    },
    {
     "name": "stderr",
     "output_type": "stream",
     "text": [
      "  1%|          | 12/1000 [06:27<8:46:24, 31.97s/it]"
     ]
    },
    {
     "name": "stdout",
     "output_type": "stream",
     "text": [
      "Currents: (-5.00, 5.00), Position: (0.023, -0.016), Force: [-0.17337557  0.14862452  0.        ]\n"
     ]
    },
    {
     "name": "stderr",
     "output_type": "stream",
     "text": [
      "  1%|▏         | 13/1000 [06:59<8:45:12, 31.93s/it]"
     ]
    },
    {
     "name": "stdout",
     "output_type": "stream",
     "text": [
      "Currents: (-5.00, 5.00), Position: (0.026, -0.015), Force: [-0.24272776  0.11495904  0.        ]\n"
     ]
    },
    {
     "name": "stderr",
     "output_type": "stream",
     "text": [
      "  1%|▏         | 14/1000 [07:32<8:50:33, 32.29s/it]"
     ]
    },
    {
     "name": "stdout",
     "output_type": "stream",
     "text": [
      "Currents: (-5.00, 5.00), Position: (0.029, -0.013), Force: [-0.27016899  0.08432693  0.        ]\n"
     ]
    },
    {
     "name": "stderr",
     "output_type": "stream",
     "text": [
      "  2%|▏         | 15/1000 [08:07<9:05:45, 33.24s/it]"
     ]
    },
    {
     "name": "stdout",
     "output_type": "stream",
     "text": [
      "Currents: (-5.00, 5.00), Position: (0.032, -0.012), Force: [-0.26922535  0.05999204  0.        ]\n"
     ]
    },
    {
     "name": "stderr",
     "output_type": "stream",
     "text": [
      "  2%|▏         | 16/1000 [08:43<9:15:47, 33.89s/it]"
     ]
    },
    {
     "name": "stdout",
     "output_type": "stream",
     "text": [
      "Currents: (-5.00, 5.00), Position: (0.035, -0.010), Force: [-0.25313429  0.04198034  0.        ]\n"
     ]
    },
    {
     "name": "stderr",
     "output_type": "stream",
     "text": [
      "  2%|▏         | 17/1000 [09:18<9:22:58, 34.36s/it]"
     ]
    },
    {
     "name": "stdout",
     "output_type": "stream",
     "text": [
      "Currents: (-5.00, 5.00), Position: (0.037, -0.009), Force: [-0.23096744  0.02901628  0.        ]\n"
     ]
    },
    {
     "name": "stderr",
     "output_type": "stream",
     "text": [
      "  2%|▏         | 18/1000 [09:53<9:25:56, 34.58s/it]"
     ]
    },
    {
     "name": "stdout",
     "output_type": "stream",
     "text": [
      "Currents: (-5.00, 5.00), Position: (0.040, -0.007), Force: [-0.20777546  0.01968926  0.        ]\n"
     ]
    },
    {
     "name": "stderr",
     "output_type": "stream",
     "text": [
      "  2%|▏         | 19/1000 [10:27<9:22:29, 34.40s/it]"
     ]
    },
    {
     "name": "stdout",
     "output_type": "stream",
     "text": [
      "Currents: (-5.00, 4.99), Position: (0.042, -0.005), Force: [-0.18567916  0.01295228  0.        ]\n"
     ]
    },
    {
     "name": "stderr",
     "output_type": "stream",
     "text": [
      "  2%|▏         | 20/1000 [11:01<9:17:33, 34.14s/it]"
     ]
    },
    {
     "name": "stdout",
     "output_type": "stream",
     "text": [
      "Currents: (-5.00, 3.83), Position: (0.043, -0.004), Force: [-0.14307512  0.01603197  0.        ]\n"
     ]
    },
    {
     "name": "stderr",
     "output_type": "stream",
     "text": [
      "  2%|▏         | 21/1000 [11:34<9:14:40, 33.99s/it]"
     ]
    },
    {
     "name": "stdout",
     "output_type": "stream",
     "text": [
      "Currents: (-5.00, 1.53), Position: (0.045, -0.002), Force: [-0.09168296  0.02627735  0.        ]\n"
     ]
    },
    {
     "name": "stderr",
     "output_type": "stream",
     "text": [
      "  2%|▏         | 22/1000 [12:07<9:08:02, 33.62s/it]"
     ]
    },
    {
     "name": "stdout",
     "output_type": "stream",
     "text": [
      "Currents: (-5.00, -1.96), Position: (0.047, -0.000), Force: [-0.03865572  0.0411409   0.        ]\n"
     ]
    },
    {
     "name": "stderr",
     "output_type": "stream",
     "text": [
      "  2%|▏         | 23/1000 [12:41<9:08:27, 33.68s/it]"
     ]
    },
    {
     "name": "stdout",
     "output_type": "stream",
     "text": [
      "Currents: (-5.00, -5.00), Position: (0.048, 0.001), Force: [-0.00734607  0.04962021  0.        ]\n"
     ]
    },
    {
     "name": "stderr",
     "output_type": "stream",
     "text": [
      "  2%|▏         | 24/1000 [13:14<9:05:57, 33.56s/it]"
     ]
    },
    {
     "name": "stdout",
     "output_type": "stream",
     "text": [
      "Currents: (-5.00, -5.00), Position: (0.049, 0.003), Force: [-0.01485692  0.04088998  0.        ]\n"
     ]
    },
    {
     "name": "stderr",
     "output_type": "stream",
     "text": [
      "  2%|▎         | 25/1000 [13:47<9:02:22, 33.38s/it]"
     ]
    },
    {
     "name": "stdout",
     "output_type": "stream",
     "text": [
      "Currents: (-5.00, -5.00), Position: (0.051, 0.005), Force: [-0.02000365  0.0328137   0.        ]\n"
     ]
    },
    {
     "name": "stderr",
     "output_type": "stream",
     "text": [
      "  3%|▎         | 26/1000 [14:19<8:56:16, 33.04s/it]"
     ]
    },
    {
     "name": "stdout",
     "output_type": "stream",
     "text": [
      "Currents: (-5.00, -5.00), Position: (0.052, 0.007), Force: [-0.02312168  0.02559296  0.        ]\n"
     ]
    },
    {
     "name": "stderr",
     "output_type": "stream",
     "text": [
      "  3%|▎         | 27/1000 [14:54<9:01:50, 33.41s/it]"
     ]
    },
    {
     "name": "stdout",
     "output_type": "stream",
     "text": [
      "Currents: (-5.00, -5.00), Position: (0.054, 0.009), Force: [-0.02458494  0.01932904  0.        ]\n"
     ]
    },
    {
     "name": "stderr",
     "output_type": "stream",
     "text": [
      "  3%|▎         | 28/1000 [15:28<9:07:22, 33.79s/it]"
     ]
    },
    {
     "name": "stdout",
     "output_type": "stream",
     "text": [
      "Currents: (-5.00, -5.00), Position: (0.055, 0.010), Force: [-0.02476399  0.01404247  0.        ]\n"
     ]
    },
    {
     "name": "stderr",
     "output_type": "stream",
     "text": [
      "  3%|▎         | 29/1000 [16:03<9:09:19, 33.94s/it]"
     ]
    },
    {
     "name": "stdout",
     "output_type": "stream",
     "text": [
      "Currents: (-5.00, -5.00), Position: (0.056, 0.012), Force: [-0.0239983  0.0096947  0.       ]\n"
     ]
    },
    {
     "name": "stderr",
     "output_type": "stream",
     "text": [
      "  3%|▎         | 30/1000 [16:37<9:12:35, 34.18s/it]"
     ]
    },
    {
     "name": "stdout",
     "output_type": "stream",
     "text": [
      "Currents: (-5.00, -5.00), Position: (0.058, 0.014), Force: [-0.02258097  0.00620836  0.        ]\n"
     ]
    },
    {
     "name": "stderr",
     "output_type": "stream",
     "text": [
      "  3%|▎         | 31/1000 [17:09<9:01:02, 33.50s/it]"
     ]
    },
    {
     "name": "stdout",
     "output_type": "stream",
     "text": [
      "Currents: (-5.00, -5.00), Position: (0.059, 0.016), Force: [-0.02075302  0.00348423  0.        ]\n"
     ]
    },
    {
     "name": "stderr",
     "output_type": "stream",
     "text": [
      "  3%|▎         | 32/1000 [17:42<8:57:51, 33.34s/it]"
     ]
    },
    {
     "name": "stdout",
     "output_type": "stream",
     "text": [
      "Currents: (-5.00, -5.00), Position: (0.060, 0.018), Force: [-0.01870422  0.00141445  0.        ]\n"
     ]
    },
    {
     "name": "stderr",
     "output_type": "stream",
     "text": [
      "  3%|▎         | 33/1000 [18:13<8:46:11, 32.65s/it]"
     ]
    },
    {
     "name": "stdout",
     "output_type": "stream",
     "text": [
      "Currents: (-5.00, -5.00), Position: (0.061, 0.020), Force: [-0.01657782 -0.00010823  0.        ]\n"
     ]
    },
    {
     "name": "stderr",
     "output_type": "stream",
     "text": [
      "  3%|▎         | 34/1000 [18:44<8:34:05, 31.93s/it]"
     ]
    },
    {
     "name": "stdout",
     "output_type": "stream",
     "text": [
      "Currents: (-5.00, -5.00), Position: (0.063, 0.022), Force: [-0.01447716 -0.00118427  0.        ]\n"
     ]
    },
    {
     "name": "stderr",
     "output_type": "stream",
     "text": [
      "  4%|▎         | 35/1000 [19:14<8:25:59, 31.46s/it]"
     ]
    },
    {
     "name": "stdout",
     "output_type": "stream",
     "text": [
      "Currents: (-5.00, -5.00), Position: (0.064, 0.024), Force: [-0.01247288 -0.00190389  0.        ]\n"
     ]
    },
    {
     "name": "stderr",
     "output_type": "stream",
     "text": [
      "  4%|▎         | 36/1000 [19:44<8:20:00, 31.12s/it]"
     ]
    },
    {
     "name": "stdout",
     "output_type": "stream",
     "text": [
      "Currents: (-5.00, -5.00), Position: (0.065, 0.026), Force: [-0.01060973 -0.00234545  0.        ]\n"
     ]
    },
    {
     "name": "stderr",
     "output_type": "stream",
     "text": [
      "  4%|▎         | 37/1000 [20:16<8:20:02, 31.16s/it]"
     ]
    },
    {
     "name": "stdout",
     "output_type": "stream",
     "text": [
      "Currents: (-5.00, -5.00), Position: (0.066, 0.028), Force: [-0.0089128  -0.00257516  0.        ]\n"
     ]
    },
    {
     "name": "stderr",
     "output_type": "stream",
     "text": [
      "  4%|▍         | 38/1000 [20:48<8:25:48, 31.55s/it]"
     ]
    },
    {
     "name": "stdout",
     "output_type": "stream",
     "text": [
      "Currents: (-5.00, -5.00), Position: (0.067, 0.030), Force: [-0.00739265 -0.0026477   0.        ]\n"
     ]
    },
    {
     "name": "stderr",
     "output_type": "stream",
     "text": [
      "  4%|▍         | 39/1000 [21:23<8:43:12, 32.67s/it]"
     ]
    },
    {
     "name": "stdout",
     "output_type": "stream",
     "text": [
      "Currents: (-5.00, -5.00), Position: (0.068, 0.032), Force: [-0.00604956 -0.00260727  0.        ]\n"
     ]
    },
    {
     "name": "stderr",
     "output_type": "stream",
     "text": [
      "  4%|▍         | 40/1000 [21:58<8:50:30, 33.16s/it]"
     ]
    },
    {
     "name": "stdout",
     "output_type": "stream",
     "text": [
      "Currents: (-5.00, -5.00), Position: (0.070, 0.034), Force: [-0.00487692 -0.00248889  0.        ]\n"
     ]
    },
    {
     "name": "stderr",
     "output_type": "stream",
     "text": [
      "  4%|▍         | 41/1000 [22:32<8:55:23, 33.50s/it]"
     ]
    },
    {
     "name": "stdout",
     "output_type": "stream",
     "text": [
      "Currents: (-5.00, -5.00), Position: (0.071, 0.036), Force: [-0.0038637 -0.0023198  0.       ]\n"
     ]
    },
    {
     "ename": "",
     "evalue": "",
     "output_type": "error",
     "traceback": [
      "\u001b[1;31mThe Kernel crashed while executing code in the current cell or a previous cell. \n",
      "\u001b[1;31mPlease review the code in the cell(s) to identify a possible cause of the failure. \n",
      "\u001b[1;31mClick <a href='https://aka.ms/vscodeJupyterKernelCrash'>here</a> for more info. \n",
      "\u001b[1;31mView Jupyter <a href='command:jupyter.viewOutput'>log</a> for further details."
     ]
    },
    {
     "ename": "",
     "evalue": "",
     "output_type": "error",
     "traceback": [
      "\u001b[1;31mThe Kernel crashed while executing code in the current cell or a previous cell. \n",
      "\u001b[1;31mPlease review the code in the cell(s) to identify a possible cause of the failure. \n",
      "\u001b[1;31mClick <a href='https://aka.ms/vscodeJupyterKernelCrash'>here</a> for more info. \n",
      "\u001b[1;31mView Jupyter <a href='command:jupyter.viewOutput'>log</a> for further details."
     ]
    },
    {
     "ename": "",
     "evalue": "",
     "output_type": "error",
     "traceback": [
      "\u001b[1;31mThe Kernel crashed while executing code in the current cell or a previous cell. \n",
      "\u001b[1;31mPlease review the code in the cell(s) to identify a possible cause of the failure. \n",
      "\u001b[1;31mClick <a href='https://aka.ms/vscodeJupyterKernelCrash'>here</a> for more info. \n",
      "\u001b[1;31mView Jupyter <a href='command:jupyter.viewOutput'>log</a> for further details."
     ]
    }
   ],
   "source": [
    "pid_x = PID(kp=0.6, ki=0.0, kd=0.01, setpoint=530, output_limits=(-255, 255))\n",
    "pid_y = PID(kp=0.6, ki=0.0, kd=0.01, setpoint=530, output_limits=(-255, 255))\n",
    "x_current = 0\n",
    "y_current = 0\n",
    "magnetic_moment = (0.0, 0.0, 2.06)  # A·m²\n",
    "position = np.array([0.00, -0.02, 0.03])  # Starting position of the magnet\n",
    "velocity = np.array([0.0, 0.0, 0.0])  # Starting velocity of the magnet\n",
    "mass = 0.025  # kg\n",
    "dt = 0.005  # seconds\n",
    "trajectory = []\n",
    "\n",
    "# Assume initial coil currents (can start at 0)\n",
    "current_x = -5.0\n",
    "current_y = 5\n",
    "\n",
    "MAX_CURRENT = 7.0  # Amps\n",
    "MAX_PWM = 255\n",
    "\n",
    "\n",
    "\n",
    "for step in tqdm(range(40)):\n",
    "    x, y, z = position\n",
    "    Input_X = scale_position_to_hall(x)\n",
    "    Input_Y = scale_position_to_hall(y)\n",
    "\n",
    "\n",
    "    # 1. PID computes desired current adjustment\n",
    "    pwm_delta_x = pid_x.compute(Input_X)\n",
    "    pwm_delta_y = pid_y.compute(Input_Y)\n",
    "    \n",
    "    # 2. Convert PWM change to actual current (Amps)\n",
    "    delta_Ix = (pwm_delta_x / MAX_PWM) * MAX_CURRENT\n",
    "    delta_Iy = (pwm_delta_y / MAX_PWM) * MAX_CURRENT\n",
    "\n",
    "    # 2. Update the actual coil currents\n",
    "    current_x += delta_Ix\n",
    "    current_y += delta_Iy\n",
    "\n",
    "    # Max current in Amps (adjust as needed)\n",
    "    max_current = 5 # e.g., ±3.5 A\n",
    "\n",
    "    # 2. Update the actual coil currents with limits\n",
    "    current_x = np.clip(current_x + delta_Ix, -max_current, max_current)\n",
    "    current_y = np.clip(current_y + delta_Iy, -max_current, max_current)\n",
    "    # 3. Update the current in the coils\n",
    "    coil_pillars = construct_system(current_x, current_y)\n",
    "\n",
    "    # 4. Compute magnetic force at current position\n",
    "    force = compute_magnetic_force(coil_pillars, position, magnetic_moment)\n",
    "    force = np.array(force)\n",
    "    # 5. Zero out Z if we're assuming it's fixed\n",
    "    force[2] = 0.0\n",
    "    print(f\"Currents: ({current_x:.2f}, {current_y:.2f}), Position: ({x:.3f}, {y:.3f}), Force: {force}\")\n",
    "\n",
    "    # 6. Update position from force\n",
    "    position, velocity = update_position_velocity(position, velocity , force, mass, dt)\n",
    "    \n",
    "    # 7. Save trajectory\n",
    "    trajectory.append(position)\n"
   ]
  },
  {
   "cell_type": "code",
   "execution_count": null,
   "metadata": {},
   "outputs": [],
   "source": [
    "def animate_pos_list(positions):\n",
    "    # Extract x, y, z coordinates\n",
    "    x_positions = [pos[0] for pos in positions]\n",
    "    y_positions = [pos[1] for pos in positions]\n",
    "    z_positions = [pos[2] for pos in positions]\n",
    "\n",
    "    # Plot setup\n",
    "    fig, ax = plt.subplots()\n",
    "    scat = ax.scatter(x_positions[0], z_positions[0], c=\"b\", s=5, label='Particle')\n",
    "    ax.set(xlim=[min(x_positions) - 0.01, max(x_positions) + 0.01], ylim=[min(z_positions) - 0.01, max(z_positions) + 0.01], xlabel='X', ylabel='Z')\n",
    "    ax.legend()\n",
    "\n",
    "    # Update function\n",
    "    def update(frame):\n",
    "        x = x_positions[:frame]\n",
    "        z = z_positions[:frame]\n",
    "        scat.set_offsets(np.column_stack([x, z]))\n",
    "        return scat,\n",
    "\n",
    "    # Create animation\n",
    "    ani = animation.FuncAnimation(fig, update, frames=len(positions), interval=100, blit=False)\n",
    "    return ani"
   ]
  },
  {
   "cell_type": "code",
   "execution_count": null,
   "metadata": {},
   "outputs": [
    {
     "name": "stdout",
     "output_type": "stream",
     "text": [
      "[(np.float64(0.0), np.float64(-0.02), np.float64(0.03)), (np.float64(0.0), np.float64(-0.02), np.float64(0.03)), (np.float64(0.0), np.float64(-0.02), np.float64(0.03)), (np.float64(0.0), np.float64(-0.02), np.float64(0.03)), (np.float64(0.0), np.float64(-0.02), np.float64(0.03)), (np.float64(0.0), np.float64(-0.02), np.float64(0.03)), (np.float64(0.0), np.float64(-0.02), np.float64(0.03)), (np.float64(0.0), np.float64(-0.02), np.float64(0.03)), (np.float64(0.0), np.float64(-0.02), np.float64(0.03)), (np.float64(0.0), np.float64(-0.02), np.float64(0.03))]\n"
     ]
    }
   ],
   "source": [
    "print(trajectory)"
   ]
  },
  {
   "cell_type": "code",
   "execution_count": null,
   "metadata": {},
   "outputs": [
    {
     "data": {
      "text/plain": [
       "<matplotlib.animation.FuncAnimation at 0x14a6560a450>"
      ]
     },
     "execution_count": 9,
     "metadata": {},
     "output_type": "execute_result"
    },
    {
     "data": {
      "application/vnd.jupyter.widget-view+json": {
       "model_id": "e61aeb820bd641e59ca40f46e6baa963",
       "version_major": 2,
       "version_minor": 0
      },
      "image/png": "[encoded data removed]",
      "text/html": [
       "\n",
       "            <div style=\"display: inline-block;\">\n",
       "                <div class=\"jupyter-widgets widget-label\" style=\"text-align: center;\">\n",
       "                    Figure\n",
       "                </div>\n",
       "                <img src='data:image/png;base64,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' width=640.0/>\n",
       "            </div>\n",
       "        "
      ],
      "text/plain": [
       "Canvas(toolbar=Toolbar(toolitems=[('Home', 'Reset original view', 'home', 'home'), ('Back', 'Back to previous …"
      ]
     },
     "metadata": {},
     "output_type": "display_data"
    }
   ],
   "source": [
    "animate_pos_list(trajectory)"
   ]
  }
 ],
 "metadata": {
  "kernelspec": {
   "display_name": ".venv",
   "language": "python",
   "name": "python3"
  },
  "language_info": {
   "codemirror_mode": {
    "name": "ipython",
    "version": 3
   },
   "file_extension": ".py",
   "mimetype": "text/x-python",
   "name": "python",
   "nbconvert_exporter": "python",
   "pygments_lexer": "ipython3",
   "version": "3.11.0"
  }
 },
 "nbformat": 4,
 "nbformat_minor": 2
}
